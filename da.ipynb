{
 "cells": [
  {
   "cell_type": "code",
   "execution_count": 2,
   "id": "3bbee2ff",
   "metadata": {},
   "outputs": [],
   "source": [
    "import pandas as pd\n",
    "import numpy as np\n",
    "import matplotlib.pyplot as plt\n",
    "import seaborn as sns\n",
    "import duckdb\n"
   ]
  },
  {
   "cell_type": "code",
   "execution_count": 2,
   "id": "91d470ba",
   "metadata": {},
   "outputs": [],
   "source": [
    "plt.style.use('default')\n",
    "sns.set_palette(\"husl\")"
   ]
  },
  {
   "cell_type": "code",
   "execution_count": 5,
   "id": "e5f3f776",
   "metadata": {},
   "outputs": [],
   "source": [
    "conn.close()"
   ]
  },
  {
   "cell_type": "code",
   "execution_count": 3,
   "id": "bc2fa79f",
   "metadata": {},
   "outputs": [],
   "source": [
    "conn = duckdb.connect('returns.db')"
   ]
  },
  {
   "cell_type": "code",
   "execution_count": 33,
   "id": "6945db58",
   "metadata": {},
   "outputs": [
    {
     "name": "stdout",
     "output_type": "stream",
     "text": [
      "CUSTOMER_EMAILID\n",
      "SALES_ORDER_NO\n",
      "Q_GMM_ID\n",
      "Q_CLS_ID\n",
      "SKU\n",
      "Q_SKU_DESC\n",
      "SALES_QTY\n",
      "UNITS_RETURNED_FLAG\n",
      "RETURN_NO\n",
      "RETURN_QTY\n",
      "ORDER_DATE\n",
      "RETURN_DATE\n"
     ]
    }
   ],
   "source": [
    "column_names = conn.execute(\"PRAGMA table_info('returns')\").fetchdf()['name'].tolist()\n",
    "for col in column_names:\n",
    "    print(col)\n"
   ]
  },
  {
   "cell_type": "code",
   "execution_count": 41,
   "id": "a7a4769d",
   "metadata": {},
   "outputs": [
    {
     "name": "stdout",
     "output_type": "stream",
     "text": [
      "Distinct values in UNITS_RETURNED_FLAG: (1048565,)\n"
     ]
    }
   ],
   "source": [
    "query = conn.execute(\"SELECT COUNT(RETURN_DATE) FROM returns;\").fetchone()\n",
    "print(f\"Distinct values in UNITS_RETURNED_FLAG: {query}\")"
   ]
  },
  {
   "cell_type": "code",
   "execution_count": 4,
   "id": "6f3e3e2c",
   "metadata": {},
   "outputs": [
    {
     "name": "stdout",
     "output_type": "stream",
     "text": [
      "[('returns',)]\n",
      "[(0, 'CUSTOMER_EMAILID', 'VARCHAR', False, None, False), (1, 'SALES_ORDER_NO', 'VARCHAR', False, None, False), (2, 'Q_GMM_ID', 'DOUBLE', False, None, False), (3, 'Q_CLS_ID', 'DOUBLE', False, None, False), (4, 'SKU', 'VARCHAR', False, None, False), (5, 'Q_SKU_DESC', 'VARCHAR', False, None, False), (6, 'SALES_QTY', 'DOUBLE', False, None, False), (7, 'UNITS_RETURNED_FLAG', 'VARCHAR', False, None, False), (8, 'RETURN_NO', 'VARCHAR', False, None, False), (9, 'RETURN_QTY', 'DOUBLE', False, None, False), (10, 'ORDER_DATE', 'DATE', False, None, False), (11, 'RETURN_DATE', 'VARCHAR', False, None, False)]\n"
     ]
    }
   ],
   "source": [
    "tables = conn.execute(\"SHOW TABLES\").fetchall()\n",
    "print(tables)\n",
    "\n",
    "columns = conn.execute(\"PRAGMA table_info('returns');\").fetchall()\n",
    "print(columns)"
   ]
  },
  {
   "cell_type": "code",
   "execution_count": null,
   "id": "96061c14",
   "metadata": {},
   "outputs": [],
   "source": [
    "df = conn.execute(\"SELECT * FROM returns\").df()\n",
    "df.head()"
   ]
  },
  {
   "cell_type": "code",
   "execution_count": 4,
   "id": "f071402c",
   "metadata": {},
   "outputs": [
    {
     "name": "stdout",
     "output_type": "stream",
     "text": [
      "[(154888,)]\n"
     ]
    }
   ],
   "source": [
    "query = conn.execute(\"SELECT COUNT (DISTINCT return_date) FROM returns;\")\n",
    "print(query.fetchall())"
   ]
  },
  {
   "cell_type": "code",
   "execution_count": 26,
   "id": "5bcb4a8f",
   "metadata": {},
   "outputs": [
    {
     "name": "stdout",
     "output_type": "stream",
     "text": [
      "(271409,)\n"
     ]
    }
   ],
   "source": [
    "query = conn.execute(\"SELECT COUNT(*) FROM returns WHERE UNITS_RETURNED_FLAG = 'Yes'\").fetchone()\n",
    "print(query)"
   ]
  },
  {
   "cell_type": "code",
   "execution_count": 18,
   "id": "303b7ed2",
   "metadata": {},
   "outputs": [
    {
     "name": "stdout",
     "output_type": "stream",
     "text": [
      "(0, 12)\n"
     ]
    },
    {
     "data": {
      "text/html": [
       "<div>\n",
       "<style scoped>\n",
       "    .dataframe tbody tr th:only-of-type {\n",
       "        vertical-align: middle;\n",
       "    }\n",
       "\n",
       "    .dataframe tbody tr th {\n",
       "        vertical-align: top;\n",
       "    }\n",
       "\n",
       "    .dataframe thead th {\n",
       "        text-align: right;\n",
       "    }\n",
       "</style>\n",
       "<table border=\"1\" class=\"dataframe\">\n",
       "  <thead>\n",
       "    <tr style=\"text-align: right;\">\n",
       "      <th></th>\n",
       "      <th>CUSTOMER_EMAILID</th>\n",
       "      <th>SALES_ORDER_NO</th>\n",
       "      <th>Q_GMM_ID</th>\n",
       "      <th>Q_CLS_ID</th>\n",
       "      <th>SKU</th>\n",
       "      <th>Q_SKU_DESC</th>\n",
       "      <th>SALES_QTY</th>\n",
       "      <th>UNITS_RETURNED_FLAG</th>\n",
       "      <th>RETURN_NO</th>\n",
       "      <th>RETURN_QTY</th>\n",
       "      <th>ORDER_DATE</th>\n",
       "      <th>RETURN_DATE</th>\n",
       "    </tr>\n",
       "  </thead>\n",
       "  <tbody>\n",
       "  </tbody>\n",
       "</table>\n",
       "</div>"
      ],
      "text/plain": [
       "Empty DataFrame\n",
       "Columns: [CUSTOMER_EMAILID, SALES_ORDER_NO, Q_GMM_ID, Q_CLS_ID, SKU, Q_SKU_DESC, SALES_QTY, UNITS_RETURNED_FLAG, RETURN_NO, RETURN_QTY, ORDER_DATE, RETURN_DATE]\n",
       "Index: []"
      ]
     },
     "execution_count": 18,
     "metadata": {},
     "output_type": "execute_result"
    }
   ],
   "source": [
    "returns = df[df['UNITS_RETURNED_FLAG'] == 'YES']\n",
    "print(returns.shape)\n",
    "returns"
   ]
  }
 ],
 "metadata": {
  "kernelspec": {
   "display_name": ".venv",
   "language": "python",
   "name": "python3"
  },
  "language_info": {
   "codemirror_mode": {
    "name": "ipython",
    "version": 3
   },
   "file_extension": ".py",
   "mimetype": "text/x-python",
   "name": "python",
   "nbconvert_exporter": "python",
   "pygments_lexer": "ipython3",
   "version": "3.12.6"
  }
 },
 "nbformat": 4,
 "nbformat_minor": 5
}
