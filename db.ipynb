{
 "cells": [
  {
   "cell_type": "code",
   "execution_count": null,
   "id": "dbe7b3da",
   "metadata": {
    "vscode": {
     "languageId": "plaintext"
    }
   },
   "outputs": [],
   "source": [
    "import pandas as pd\n",
    "import openpyxl\n",
    "import duckdb"
   ]
  },
  {
   "cell_type": "markdown",
   "id": "36811064",
   "metadata": {},
   "source": [
    "Setup database"
   ]
  },
  {
   "cell_type": "code",
   "execution_count": null,
   "id": "47724614",
   "metadata": {
    "vscode": {
     "languageId": "plaintext"
    }
   },
   "outputs": [],
   "source": [
    "conn = duckdb.connect('returns.db')\n",
    "conn.execute(\"INSTALL 'excel'\")\n",
    "conn.execute(\"LOAD 'excel'\")\n",
    "table = 'returns'\n",
    "file = 'RETRO_SAMPLE.xlsx'\n",
    "conn.execute(\"CREATE TABLE returns AS SELECT * FROM RETRO_SAMPLE.xlsx\")"
   ]
  },
  {
   "cell_type": "markdown",
   "id": "f426beeb",
   "metadata": {},
   "source": [
    "DB information"
   ]
  },
  {
   "cell_type": "code",
   "execution_count": null,
   "id": "7eefff02",
   "metadata": {
    "vscode": {
     "languageId": "plaintext"
    }
   },
   "outputs": [],
   "source": [
    "tables = conn.execute(\"SHOW TABLES\").fetchall()\n",
    "print(tables)\n",
    "columns = conn.execute(\"PRAGMA table_info('returns');\").fetchall()\n",
    "print(columns)\n",
    "query = conn.execute(\"\"\"\n",
    "    SELECT COUNT(DISTINCT CUSTOMER_EMAILID)\n",
    "    FROM returns\n",
    "\"\"\").fetchone()\n",
    "\n",
    "print(f\"unqiue customer emails: {query}\")\n",
    "\n",
    "cust_orders = conn.execute(\"\"\"\n",
    "    SELECT AVG(order_count) AS avg_unique_orders_per_customer\n",
    "    FROM (\n",
    "        SELECT CUSTOMER_EMAILID, COUNT(DISTINCT SALES_ORDER_NO) AS order_count\n",
    "        FROM returns\n",
    "        GROUP BY CUSTOMER_EMAILID\n",
    "    );\n",
    "        \"\"\").fetchone()\n",
    "\n",
    "print(f\"average unique orders per customer: {cust_orders}\")\n",
    "\n",
    "cust_returns = conn.execute(\"\"\"\n",
    "    SELECT AVG(return_count) AS avg_unique_returns_per_customer\n",
    "    FROM (\n",
    "        SELECT CUSTOMER_EMAILID, COUNT(DISTINCT RETURN_NO) AS return_count\n",
    "        FROM returns\n",
    "        GROUP BY CUSTOMER_EMAILID\n",
    "    );\n",
    "        \"\"\").fetchone()\n",
    "\n",
    "print(f\"average unique returns per customer: {cust_returns}\")"
   ]
  }
 ],
 "metadata": {
  "language_info": {
   "name": "python"
  }
 },
 "nbformat": 4,
 "nbformat_minor": 5
}
