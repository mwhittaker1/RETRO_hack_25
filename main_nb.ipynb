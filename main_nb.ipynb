{
 "cells": [
  {
   "cell_type": "markdown",
   "id": "a8175ef7",
   "metadata": {},
   "source": [
    "Run DBScan on returns duckdb"
   ]
  },
  {
   "cell_type": "code",
   "execution_count": 1,
   "id": "b68d3793",
   "metadata": {},
   "outputs": [
    {
     "name": "stderr",
     "output_type": "stream",
     "text": [
      "2025-06-24 00:34:14,332 INFO: Loading data from data/base_returns_sku_metadata.csv\n",
      "2025-06-24 00:34:14,340 INFO: Table customer_transactions already exists, skipping data load\n",
      "2025-06-24 00:34:14,340 INFO: Creating intermediate feature tables\n",
      "2025-06-24 00:34:14,343 INFO: Using reference date: 2025-06-23 09:56:56\n",
      "2025-06-24 00:34:14,344 INFO: Creating customer order summary\n",
      "2025-06-24 00:34:14,344 INFO: Executing: CREATE OR REPLACE TABLE customer_order_summary ...\n"
     ]
    },
    {
     "name": "stdout",
     "output_type": "stream",
     "text": [
      "✅ All imports loaded successfully!\n",
      "🔧 Environment configured for large dataset processing\n",
      "📊 Ready to run customer clustering features pipeline\n",
      "🚀 Starting Customer Clustering Feature Pipeline\n",
      "📁 File: data/base_returns_sku_metadata.csv\n",
      "💾 Database: customer_features.db\n",
      "📊 Features table: customer_clustering_features\n",
      "------------------------------------------------------------\n"
     ]
    },
    {
     "name": "stderr",
     "output_type": "stream",
     "text": [
      "2025-06-24 00:34:15,310 INFO: Creating customer item summary\n",
      "2025-06-24 00:34:15,311 INFO: Executing: CREATE OR REPLACE TABLE customer_item_summary ...\n",
      "2025-06-24 00:34:16,626 INFO: Creating return timing analysis\n",
      "2025-06-24 00:34:16,627 INFO: Executing: CREATE OR REPLACE TABLE return_timing_analysis ...\n",
      "2025-06-24 00:34:16,628 ERROR: Error in feature creation: Binder Error: Referenced column \"RETURN_COMMENT\" not found in FROM clause!\n",
      "Candidate bindings: \"RETURN_NO\", \"RETURN_QTY\", \"RETURN_DATE\", \"UNITS_RETURNED_FLAG\", \"CUSTOMER_EMAILID\"\n",
      "\n",
      "LINE 12:             RETURN_COMMENT,\n",
      "                     ^\n"
     ]
    },
    {
     "name": "stdout",
     "output_type": "stream",
     "text": [
      "❌ ERROR: Binder Error: Referenced column \"RETURN_COMMENT\" not found in FROM clause!\n",
      "Candidate bindings: \"RETURN_NO\", \"RETURN_QTY\", \"RETURN_DATE\", \"UNITS_RETURNED_FLAG\", \"CUSTOMER_EMAILID\"\n",
      "\n",
      "LINE 12:             RETURN_COMMENT,\n",
      "                     ^\n",
      "Check the logs above for detailed error information\n",
      "\n",
      "⏱️  Total execution time: 2.34 seconds\n"
     ]
    },
    {
     "ename": "BinderException",
     "evalue": "Binder Error: Referenced column \"RETURN_COMMENT\" not found in FROM clause!\nCandidate bindings: \"RETURN_NO\", \"RETURN_QTY\", \"RETURN_DATE\", \"UNITS_RETURNED_FLAG\", \"CUSTOMER_EMAILID\"\n\nLINE 12:             RETURN_COMMENT,\n                     ^",
     "output_type": "error",
     "traceback": [
      "\u001b[31m---------------------------------------------------------------------------\u001b[39m",
      "\u001b[31mBinderException\u001b[39m                           Traceback (most recent call last)",
      "\u001b[36mCell\u001b[39m\u001b[36m \u001b[39m\u001b[32mIn[1]\u001b[39m\u001b[32m, line 46\u001b[39m\n\u001b[32m     43\u001b[39m \u001b[38;5;28mprint\u001b[39m(\u001b[33m\"\u001b[39m\u001b[33m-\u001b[39m\u001b[33m\"\u001b[39m * \u001b[32m60\u001b[39m)\n\u001b[32m     45\u001b[39m \u001b[38;5;66;03m# Run the complete pipeline\u001b[39;00m\n\u001b[32m---> \u001b[39m\u001b[32m46\u001b[39m conn = \u001b[43mcreate_customer_clustering_features\u001b[49m\u001b[43m(\u001b[49m\u001b[43m*\u001b[49m\u001b[43m*\u001b[49m\u001b[43mconfig\u001b[49m\u001b[43m)\u001b[49m\n\u001b[32m     48\u001b[39m \u001b[38;5;66;03m# Display results summary\u001b[39;00m\n\u001b[32m     49\u001b[39m \u001b[38;5;28mprint\u001b[39m(\u001b[33m\"\u001b[39m\u001b[38;5;130;01m\\n\u001b[39;00m\u001b[33m\"\u001b[39m + \u001b[33m\"\u001b[39m\u001b[33m=\u001b[39m\u001b[33m\"\u001b[39m*\u001b[32m60\u001b[39m)\n",
      "\u001b[36mFile \u001b[39m\u001b[32mc:\\Code\\Local Code\\URBN\\RETRO_hack_25\\customer_clustering_features.py:56\u001b[39m, in \u001b[36mcreate_customer_clustering_features\u001b[39m\u001b[34m(file_path, table_name, features_table_name, chunk_size, db_file, force_recreate)\u001b[39m\n\u001b[32m     54\u001b[39m _load_raw_data(conn, file_path, table_name, chunk_size, force_recreate)\n\u001b[32m     55\u001b[39m logger.info(\u001b[33m\"\u001b[39m\u001b[33mCreating intermediate feature tables\u001b[39m\u001b[33m\"\u001b[39m)\n\u001b[32m---> \u001b[39m\u001b[32m56\u001b[39m \u001b[43m_create_intermediate_tables\u001b[49m\u001b[43m(\u001b[49m\u001b[43mconn\u001b[49m\u001b[43m,\u001b[49m\u001b[43m \u001b[49m\u001b[43mtable_name\u001b[49m\u001b[43m)\u001b[49m\n\u001b[32m     57\u001b[39m logger.info(\u001b[33m\"\u001b[39m\u001b[33mGenerating customer clustering features\u001b[39m\u001b[33m\"\u001b[39m)\n\u001b[32m     58\u001b[39m _create_customer_features(conn, features_table_name, force_recreate)\n",
      "\u001b[36mFile \u001b[39m\u001b[32mc:\\Code\\Local Code\\URBN\\RETRO_hack_25\\customer_clustering_features.py:186\u001b[39m, in \u001b[36m_create_intermediate_tables\u001b[39m\u001b[34m(conn, table_name)\u001b[39m\n\u001b[32m    184\u001b[39m logger.info(\u001b[33m\"\u001b[39m\u001b[33mCreating return timing analysis\u001b[39m\u001b[33m\"\u001b[39m)\n\u001b[32m    185\u001b[39m logger.info(\u001b[33m\"\u001b[39m\u001b[33mExecuting: CREATE OR REPLACE TABLE return_timing_analysis ...\u001b[39m\u001b[33m\"\u001b[39m)\n\u001b[32m--> \u001b[39m\u001b[32m186\u001b[39m \u001b[43mconn\u001b[49m\u001b[43m.\u001b[49m\u001b[43mexecute\u001b[49m\u001b[43m(\u001b[49m\u001b[33;43mf\u001b[39;49m\u001b[33;43m\"\"\"\u001b[39;49m\n\u001b[32m    187\u001b[39m \u001b[33;43m    CREATE OR REPLACE TABLE return_timing_analysis AS\u001b[39;49m\n\u001b[32m    188\u001b[39m \u001b[33;43m    SELECT \u001b[39;49m\n\u001b[32m    189\u001b[39m \u001b[33;43m        CUSTOMER_EMAILID,\u001b[39;49m\n\u001b[32m    190\u001b[39m \u001b[33;43m        SALES_ORDER_NO,\u001b[39;49m\n\u001b[32m    191\u001b[39m \u001b[33;43m        SKU,\u001b[39;49m\n\u001b[32m    192\u001b[39m \u001b[33;43m        ORDER_DATE,\u001b[39;49m\n\u001b[32m    193\u001b[39m \u001b[33;43m        RETURN_DATE,\u001b[39;49m\n\u001b[32m    194\u001b[39m \u001b[33;43m        EXTRACT(DAY FROM (RETURN_DATE - ORDER_DATE)) as days_to_return,\u001b[39;49m\n\u001b[32m    195\u001b[39m \u001b[33;43m        EXTRACT(MONTH FROM ORDER_DATE) as order_month,\u001b[39;49m\n\u001b[32m    196\u001b[39m \u001b[33;43m        EXTRACT(MONTH FROM RETURN_DATE) as return_month,\u001b[39;49m\n\u001b[32m    197\u001b[39m \u001b[33;43m        RETURN_COMMENT,\u001b[39;49m\n\u001b[32m    198\u001b[39m \u001b[33;43m        CASE WHEN RETURN_COMMENT IS NOT NULL AND RETURN_COMMENT != \u001b[39;49m\u001b[33;43m'\u001b[39;49m\u001b[33;43m'\u001b[39;49m\u001b[33;43m THEN TRUE ELSE FALSE END as has_return_comment\u001b[39;49m\n\u001b[32m    199\u001b[39m \u001b[33;43m    FROM \u001b[39;49m\u001b[38;5;132;43;01m{\u001b[39;49;00m\u001b[43mtable_name\u001b[49m\u001b[38;5;132;43;01m}\u001b[39;49;00m\n\u001b[32m    200\u001b[39m \u001b[33;43m    WHERE UNITS_RETURNED_FLAG AND RETURN_DATE IS NOT NULL\u001b[39;49m\n\u001b[32m    201\u001b[39m \u001b[33;43m\u001b[39;49m\u001b[33;43m\"\"\"\u001b[39;49m\u001b[43m)\u001b[49m\n\u001b[32m    202\u001b[39m logger.info(\u001b[33m\"\u001b[39m\u001b[33mExecuting: CREATE OR REPLACE TABLE reference_metadata ...\u001b[39m\u001b[33m\"\u001b[39m)\n\u001b[32m    203\u001b[39m conn.execute(\u001b[33mf\u001b[39m\u001b[33m\"\"\"\u001b[39m\n\u001b[32m    204\u001b[39m \u001b[33m    CREATE OR REPLACE TABLE reference_metadata AS\u001b[39m\n\u001b[32m    205\u001b[39m \u001b[33m    SELECT \u001b[39m\n\u001b[32m    206\u001b[39m \u001b[33m        \u001b[39m\u001b[33m'\u001b[39m\u001b[38;5;132;01m{\u001b[39;00mreference_date\u001b[38;5;132;01m}\u001b[39;00m\u001b[33m'\u001b[39m\u001b[33m::TIMESTAMP as reference_date,\u001b[39m\n\u001b[32m    207\u001b[39m \u001b[33m        \u001b[39m\u001b[33m'\u001b[39m\u001b[38;5;132;01m{\u001b[39;00mreference_date\u001b[38;5;132;01m}\u001b[39;00m\u001b[33m'\u001b[39m\u001b[33m::TIMESTAMP - INTERVAL \u001b[39m\u001b[33m'\u001b[39m\u001b[33m90 days\u001b[39m\u001b[33m'\u001b[39m\u001b[33m as recent_cutoff_date\u001b[39m\n\u001b[32m    208\u001b[39m \u001b[33m\u001b[39m\u001b[33m\"\"\"\u001b[39m)\n",
      "\u001b[31mBinderException\u001b[39m: Binder Error: Referenced column \"RETURN_COMMENT\" not found in FROM clause!\nCandidate bindings: \"RETURN_NO\", \"RETURN_QTY\", \"RETURN_DATE\", \"UNITS_RETURNED_FLAG\", \"CUSTOMER_EMAILID\"\n\nLINE 12:             RETURN_COMMENT,\n                     ^"
     ]
    }
   ],
   "source": [
    "# Required imports for Customer Clustering Features Pipeline\n",
    "import pandas as pd\n",
    "import duckdb\n",
    "import numpy as np\n",
    "from pathlib import Path\n",
    "import logging\n",
    "from typing import Union, Optional\n",
    "import gc\n",
    "from datetime import datetime\n",
    "import time\n",
    "import warnings\n",
    "from customer_clustering_features import create_customer_clustering_features\n",
    "\n",
    "# Suppress warnings for cleaner output\n",
    "warnings.filterwarnings('ignore')\n",
    "\n",
    "# Configure pandas display options\n",
    "pd.set_option('display.max_columns', None)\n",
    "pd.set_option('display.width', None)\n",
    "pd.set_option('display.max_colwidth', 50)\n",
    "\n",
    "print(\"✅ All imports loaded successfully!\")\n",
    "print(\"🔧 Environment configured for large dataset processing\")\n",
    "print(\"📊 Ready to run customer clustering features pipeline\")\n",
    "\n",
    "start_time = time.time()\n",
    "\n",
    "try:\n",
    "   # Configuration\n",
    "   config = {\n",
    "       'file_path': 'data/base_returns_sku_metadata.csv',  # Update with your file path\n",
    "       'table_name': 'customer_transactions',\n",
    "       'features_table_name': 'customer_clustering_features',\n",
    "       'chunk_size': 50000,  # Adjust based on available RAM\n",
    "       'db_file': 'customer_features.db',  # Persistent database file\n",
    "       'force_recreate': False  # Set to True to rebuild from scratch\n",
    "   }\n",
    "   \n",
    "   print(\"🚀 Starting Customer Clustering Feature Pipeline\")\n",
    "   print(f\"📁 File: {config['file_path']}\")\n",
    "   print(f\"💾 Database: {config['db_file']}\")\n",
    "   print(f\"📊 Features table: {config['features_table_name']}\")\n",
    "   print(\"-\" * 60)\n",
    "   \n",
    "   # Run the complete pipeline\n",
    "   conn = create_customer_clustering_features(**config)\n",
    "   \n",
    "   # Display results summary\n",
    "   print(\"\\n\" + \"=\"*60)\n",
    "   print(\"✅ PIPELINE COMPLETED SUCCESSFULLY\")\n",
    "   print(\"=\"*60)\n",
    "   \n",
    "   # Show sample features\n",
    "   print(\"\\n📋 Sample Customer Features:\")\n",
    "   sample_features = conn.execute(f\"\"\"\n",
    "       SELECT * FROM {config['features_table_name']} \n",
    "       ORDER BY SALES_ORDER_NO_nunique DESC \n",
    "       LIMIT 5\n",
    "   \"\"\").df()\n",
    "   print(sample_features.to_string(index=False))\n",
    "   \n",
    "   # Show customers with return comments (if any)\n",
    "   customers_with_comments = conn.execute(\"\"\"\n",
    "       SELECT \n",
    "           CUSTOMER_EMAILID,\n",
    "           COUNT(*) as total_returns,\n",
    "           COUNT(CASE WHEN has_return_comment THEN 1 END) as returns_with_comments,\n",
    "           STRING_AGG(DISTINCT RETURN_COMMENT, '; ') as sample_comments\n",
    "       FROM return_timing_analysis\n",
    "       WHERE has_return_comment AND RETURN_COMMENT != ''\n",
    "       GROUP BY CUSTOMER_EMAILID\n",
    "       ORDER BY returns_with_comments DESC\n",
    "       LIMIT 3\n",
    "   \"\"\").df()\n",
    "   \n",
    "   if len(customers_with_comments) > 0:\n",
    "       print(\"\\n💬 Customers with Return Comments (for sentiment analysis):\")\n",
    "       print(customers_with_comments.to_string(index=False))\n",
    "   \n",
    "   # Performance summary\n",
    "   elapsed_time = time.time() - start_time\n",
    "   total_rows = conn.execute(f\"SELECT COUNT(*) FROM {config['table_name']}\").fetchone()[0]\n",
    "   features_count = conn.execute(f\"SELECT COUNT(*) FROM {config['features_table_name']}\").fetchone()[0]\n",
    "   \n",
    "   print(f\"\\n⏱️  Processing completed in {elapsed_time:.2f} seconds\")\n",
    "   print(f\"📊 Processed {total_rows:,} transaction records\")\n",
    "   print(f\"👥 Generated features for {features_count:,} customers\")\n",
    "   print(f\"🏃‍♂️ Processing speed: {total_rows/elapsed_time:,.0f} records/second\")\n",
    "   \n",
    "   # Export options\n",
    "   export_csv = input(\"\\n📤 Export features to CSV? (y/n): \").lower().strip() == 'y'\n",
    "   if export_csv:\n",
    "       features_df = conn.execute(f\"SELECT * FROM {config['features_table_name']}\").df()\n",
    "       csv_filename = 'customer_clustering_features.csv'\n",
    "       features_df.to_csv(csv_filename, index=False)\n",
    "       print(f\"✅ Features exported to {csv_filename}\")\n",
    "   \n",
    "   print(f\"\\n🎯 Ready for DBSCAN clustering!\")\n",
    "   print(f\"💾 Database connection available as 'conn' variable\")\n",
    "   \n",
    "except Exception as e:\n",
    "   print(f\"❌ ERROR: {str(e)}\")\n",
    "   print(\"Check the logs above for detailed error information\")\n",
    "   raise\n",
    "finally:\n",
    "   elapsed_time = time.time() - start_time\n",
    "   print(f\"\\n⏱️  Total execution time: {elapsed_time:.2f} seconds\")"
   ]
  }
 ],
 "metadata": {
  "kernelspec": {
   "display_name": ".venv",
   "language": "python",
   "name": "python3"
  },
  "language_info": {
   "codemirror_mode": {
    "name": "ipython",
    "version": 3
   },
   "file_extension": ".py",
   "mimetype": "text/x-python",
   "name": "python",
   "nbconvert_exporter": "python",
   "pygments_lexer": "ipython3",
   "version": "3.12.6"
  }
 },
 "nbformat": 4,
 "nbformat_minor": 5
}
