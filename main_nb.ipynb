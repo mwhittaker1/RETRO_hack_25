{
 "cells": [
  {
   "cell_type": "code",
   "execution_count": 1,
   "id": "e9c6c641",
   "metadata": {},
   "outputs": [],
   "source": [
    "import pandas as pd\n",
    "import numpy as np\n",
    "import matplotlib.pyplot as plt\n",
    "import seaborn as sns\n",
    "import duckdb\n",
    "from functions import ReturnsClusteringAnalysis"
   ]
  },
  {
   "cell_type": "markdown",
   "id": "c15a9d5c",
   "metadata": {},
   "source": [
    "Plotting Style"
   ]
  },
  {
   "cell_type": "code",
   "execution_count": 2,
   "id": "6badd2a0",
   "metadata": {},
   "outputs": [],
   "source": [
    "plt.style.use('default')\n",
    "sns.set_palette(\"husl\")"
   ]
  },
  {
   "cell_type": "markdown",
   "id": "45f7685a",
   "metadata": {},
   "source": [
    "Connect to DB"
   ]
  },
  {
   "cell_type": "code",
   "execution_count": 3,
   "id": "4b5d8432",
   "metadata": {},
   "outputs": [],
   "source": [
    "conn = duckdb.connect('returns.db')"
   ]
  },
  {
   "cell_type": "markdown",
   "id": "603cb378",
   "metadata": {},
   "source": [
    "Run once! Build DB from .xlsx"
   ]
  },
  {
   "cell_type": "code",
   "execution_count": null,
   "id": "5e82fd3c",
   "metadata": {},
   "outputs": [],
   "source": [
    "\n",
    "# conn.execute(\"INSTALL 'excel'\")\n",
    "# conn.execute(\"LOAD 'excel'\")\n",
    "# table = 'temp_returns'\n",
    "# file = 'RETRO_SAMPLE.xlsx'\n",
    "# conn.execute(\"CREATE TABLE returns AS SELECT * FROM RETRO_SAMPLE.xlsx\")"
   ]
  },
  {
   "cell_type": "markdown",
   "id": "d24d7462",
   "metadata": {},
   "source": [
    "DuckDB Data"
   ]
  },
  {
   "cell_type": "code",
   "execution_count": null,
   "id": "73eb6f50",
   "metadata": {},
   "outputs": [],
   "source": [
    "tables = conn.execute(\"SHOW TABLES\").fetchall()\n",
    "print(tables)\n",
    "\n",
    "columns = conn.execute(\"PRAGMA table_info('returns');\").fetchall()\n",
    "print(columns)\n",
    "\n",
    "query = conn.execute(\"\"\"\n",
    "\n",
    "    SELECT COUNT(DISTINCT CUSTOMER_EMAILID)\n",
    "    FROM returns\n",
    "\"\"\").fetchone()\n",
    "\n",
    "print(f\"unqiue customer emails: {query}\")\n",
    "\n",
    "cust_orders = conn.execute(\"\"\"\n",
    "    SELECT AVG(order_count) AS avg_unique_orders_per_customer\n",
    "    FROM (\n",
    "        SELECT CUSTOMER_EMAILID, COUNT(DISTINCT SALES_ORDER_NO) AS order_count\n",
    "        FROM returns\n",
    "        GROUP BY CUSTOMER_EMAILID\n",
    "    );\n",
    "        \"\"\").fetchone()\n",
    "\n",
    "print(f\"average unique orders per customer: {cust_orders}\")\n",
    "\n",
    "cust_returns = conn.execute(\"\"\"\n",
    "    SELECT AVG(return_count) AS avg_unique_returns_per_customer\n",
    "    FROM (\n",
    "        SELECT CUSTOMER_EMAILID, COUNT(DISTINCT RETURN_NO) AS return_count\n",
    "        FROM returns\n",
    "        GROUP BY CUSTOMER_EMAILID\n",
    "    );\n",
    "        \"\"\").fetchone()\n",
    "\n",
    "print(f\"average unique returns per customer: {cust_returns}\")"
   ]
  },
  {
   "cell_type": "markdown",
   "id": "7d43c2d2",
   "metadata": {},
   "source": [
    "Load Data"
   ]
  },
  {
   "cell_type": "code",
   "execution_count": 4,
   "id": "53f93289",
   "metadata": {},
   "outputs": [
    {
     "name": "stdout",
     "output_type": "stream",
     "text": [
      "loading excel file...\n",
      "data loaded successfully.\n"
     ]
    }
   ],
   "source": [
    "\n",
    "print(\"loading excel file...\")\n",
    "df = conn.execute(\"SELECT * FROM returns\").df()\n",
    "print(\"data loaded successfully.\")"
   ]
  },
  {
   "cell_type": "markdown",
   "id": "f41b204b",
   "metadata": {},
   "source": [
    "Quick analysis"
   ]
  },
  {
   "cell_type": "code",
   "execution_count": null,
   "id": "22fb3c75",
   "metadata": {},
   "outputs": [],
   "source": [
    "print(\"Dataset shape:\", df.shape)\n",
    "print(\"\\nColumn info:\")\n",
    "print(df.info())\n",
    "print(\"\\nFirst few rows:\")\n",
    "print(df.head())\n",
    "print(\"\\nUnique customer emails:\", df['CUSTOMER_EMAILID'].nunique())\n",
    "print(\"Average unique orders per customer:\", df.groupby('CUSTOMER_EMAILID')['SALES_ORDER_NO'].nunique().mean())\n",
    "print(\"Average unique returns per customer:\", df.groupby('CUSTOMER_EMAILID')['RETURN_NO'].nunique().mean())\n"
   ]
  },
  {
   "cell_type": "markdown",
   "id": "f7e6fd14",
   "metadata": {},
   "source": [
    "find nulls"
   ]
  },
  {
   "cell_type": "code",
   "execution_count": 7,
   "id": "0c703f44",
   "metadata": {},
   "outputs": [
    {
     "name": "stdout",
     "output_type": "stream",
     "text": [
      "Missing values:\n",
      "CUSTOMER_EMAILID       0\n",
      "SALES_ORDER_NO         0\n",
      "Q_GMM_ID               0\n",
      "Q_CLS_ID               0\n",
      "SKU                    0\n",
      "Q_SKU_DESC             0\n",
      "SALES_QTY              0\n",
      "UNITS_RETURNED_FLAG    0\n",
      "RETURN_NO              0\n",
      "RETURN_QTY             0\n",
      "ORDER_DATE             0\n",
      "RETURN_DATE            0\n",
      "dtype: int64\n",
      "\n",
      "Data types:\n",
      "CUSTOMER_EMAILID               object\n",
      "SALES_ORDER_NO                 object\n",
      "Q_GMM_ID                      float64\n",
      "Q_CLS_ID                      float64\n",
      "SKU                            object\n",
      "Q_SKU_DESC                     object\n",
      "SALES_QTY                     float64\n",
      "UNITS_RETURNED_FLAG            object\n",
      "RETURN_NO                      object\n",
      "RETURN_QTY                    float64\n",
      "ORDER_DATE             datetime64[us]\n",
      "RETURN_DATE                    object\n",
      "dtype: object\n",
      "\n",
      "RETURN_DATE unique values (first 20):\n",
      "RETURN_DATE\n",
      "-                     777156\n",
      "44911.583460648151        42\n",
      "45094.962951388887        39\n",
      "45741.751030092593        36\n",
      "45231.81386574074         32\n",
      "45434.507743055547        30\n",
      "45094.533900462957        30\n",
      "45124.969930555562        29\n",
      "45756.775219907409        28\n",
      "45435.908182870371        28\n",
      "45682.638148148151        28\n",
      "45810.728634259263        28\n",
      "45686.511087962957        28\n",
      "44965.469814814824        27\n",
      "45817.662060185183        26\n",
      "45461.362847222219        25\n",
      "45641.73196759259         25\n",
      "44819.967523148152        25\n",
      "45816.529444444437        25\n",
      "45153.648761574077        25\n",
      "Name: count, dtype: int64\n",
      "\n",
      "RETURN_QTY distribution:\n",
      "count    1.048565e+06\n",
      "mean     2.665700e-01\n",
      "std      4.934283e-01\n",
      "min      0.000000e+00\n",
      "25%      0.000000e+00\n",
      "50%      0.000000e+00\n",
      "75%      1.000000e+00\n",
      "max      3.800000e+01\n",
      "Name: RETURN_QTY, dtype: float64\n",
      "\n",
      "Records with RETURN_QTY > 0: 271409\n",
      "\n",
      "Unique customer emails: 15608\n",
      "Average unique orders per customer: 24.284405433111225\n",
      "Average unique returns per customer: 10.931060994361866\n"
     ]
    }
   ],
   "source": [
    "print(\"Missing values:\")\n",
    "print(df.isnull().sum())\n",
    "print(\"\\nData types:\")\n",
    "print(df.dtypes)\n",
    "print(\"\\nRETURN_DATE unique values (first 20):\")\n",
    "print(df['RETURN_DATE'].value_counts().head(20))\n",
    "print(\"\\nRETURN_QTY distribution:\")\n",
    "print(df['RETURN_QTY'].describe())\n",
    "print(\"\\nRecords with RETURN_QTY > 0:\", (df['RETURN_QTY'] > 0).sum())\n",
    "print(\"\\nUnique customer emails:\", df['CUSTOMER_EMAILID'].nunique())\n",
    "print(\"Average unique orders per customer:\", df.groupby('CUSTOMER_EMAILID')['SALES_ORDER_NO'].nunique().mean())\n",
    "print(\"Average unique returns per customer:\", df.groupby('CUSTOMER_EMAILID')['RETURN_NO'].nunique().mean())\n"
   ]
  },
  {
   "cell_type": "markdown",
   "id": "e1c51279",
   "metadata": {},
   "source": [
    "Build Class"
   ]
  },
  {
   "cell_type": "code",
   "execution_count": 5,
   "id": "33b7ba3d",
   "metadata": {},
   "outputs": [
    {
     "name": "stdout",
     "output_type": "stream",
     "text": [
      "initializing ReturnsClusteringAnalysis...\n",
      "ReturnsClusteringAnalysis initialized.\n"
     ]
    }
   ],
   "source": [
    "# Initialize analyzer\n",
    "print(\"initializing ReturnsClusteringAnalysis...\")\n",
    "analyzer = ReturnsClusteringAnalysis(df)\n",
    "print(\"ReturnsClusteringAnalysis initialized.\")\n"
   ]
  },
  {
   "cell_type": "markdown",
   "id": "cc8e8425",
   "metadata": {},
   "source": [
    "Prep Data"
   ]
  },
  {
   "cell_type": "code",
   "execution_count": 6,
   "id": "2d92a961",
   "metadata": {},
   "outputs": [
    {
     "name": "stdout",
     "output_type": "stream",
     "text": [
      "Analyzing data structure...\n",
      "UNITS_RETURNED_FLAG distribution:\n",
      "UNITS_RETURNED_FLAG\n",
      "No     777156\n",
      "Yes    271409\n",
      "Name: count, dtype: int64\n",
      "\n",
      "Records with RETURN_QTY > 0: 271,409\n",
      "Returns by FLAG='Yes': 271,409\n",
      "Returns by QTY>0: 271,409\n",
      "Using UNITS_RETURNED_FLAG = 'Yes' method\n",
      "Final return records: 271,409 out of 1,048,565 total records\n",
      "Analyzing 12,709 customers who have made returns\n",
      "Total records for these customers: 987,786\n",
      "Sales records: 716,377\n",
      "Return records: 271,409\n",
      "Valid return dates: 0\n",
      "Calculating cross-order return patterns...\n",
      "\n",
      "Using features for clustering: ['SALES_ORDER_NO_nunique', 'SKU_nunique', 'RETURN_RATE', 'RETURN_RATIO', 'RETURN_FREQUENCY', 'RETURN_PRODUCT_VARIETY', 'CUSTOMER_LIFETIME_DAYS', 'RECENT_ORDERS', 'RECENT_RETURNS', 'SALES_QTY_mean', 'DAYS_TO_FIRST_RETURN', 'RETURN_DATE_SPREAD', 'ORDERS_BEFORE_FIRST_RETURN', 'AVG_RETURNS_PER_BATCH', 'RETURN_VELOCITY']\n",
      "Customer features created for 12,514 customers\n",
      "\n",
      "Customer features created for 12514 customers\n",
      "\n",
      "Features overview:\n",
      "       SALES_ORDER_NO_nunique   SKU_nunique   RETURN_RATE  RETURN_RATIO  \\\n",
      "count            12514.000000  12514.000000  12514.000000  12514.000000   \n",
      "mean                23.408343     55.732859      0.647658      0.591521   \n",
      "std                 28.221514     69.136907      0.698964      1.352652   \n",
      "min                  1.000000      1.000000      0.010000      0.000000   \n",
      "25%                  9.000000     21.000000      0.240000      0.120000   \n",
      "50%                 17.000000     41.000000      0.490000      0.300000   \n",
      "75%                 28.000000     66.000000      0.860000      0.670000   \n",
      "max                777.000000   1895.000000     17.000000     68.000000   \n",
      "\n",
      "       RETURN_FREQUENCY  RETURN_PRODUCT_VARIETY  CUSTOMER_LIFETIME_DAYS  \\\n",
      "count      12514.000000            12514.000000            12514.000000   \n",
      "mean          21.636407               20.826514              800.095813   \n",
      "std           42.809660               39.622770              299.417016   \n",
      "min            1.000000                1.000000                0.000000   \n",
      "25%            4.000000                4.000000              659.000000   \n",
      "50%           11.000000               10.000000              915.000000   \n",
      "75%           25.000000               25.000000             1027.000000   \n",
      "max         2327.000000             1992.000000             1109.000000   \n",
      "\n",
      "       RECENT_ORDERS  RECENT_RETURNS  SALES_QTY_mean  DAYS_TO_FIRST_RETURN  \\\n",
      "count   12514.000000         12514.0    12514.000000          12514.000000   \n",
      "mean        4.523094             0.0        1.076198            196.876858   \n",
      "std         8.890877             0.0        0.165665            217.152505   \n",
      "min         0.000000             0.0        1.000000              0.000000   \n",
      "25%         0.000000             0.0        1.000000             13.000000   \n",
      "50%         2.000000             0.0        1.020000            131.000000   \n",
      "75%         6.000000             0.0        1.090000            312.000000   \n",
      "max       367.000000             0.0        4.330000           1075.000000   \n",
      "\n",
      "       RETURN_DATE_SPREAD  ORDERS_BEFORE_FIRST_RETURN  AVG_RETURNS_PER_BATCH  \\\n",
      "count        12514.000000                12514.000000           12514.000000   \n",
      "mean           515.200815                   57.246044               2.039632   \n",
      "std            344.111335                   73.007692               1.564469   \n",
      "min              0.000000                    1.000000               1.000000   \n",
      "25%            183.000000                   22.000000               1.190000   \n",
      "50%            569.000000                   42.000000               1.620000   \n",
      "75%            824.000000                   67.000000               2.250000   \n",
      "max           1103.000000                 1943.000000              42.000000   \n",
      "\n",
      "       RETURN_VELOCITY  \n",
      "count     12514.000000  \n",
      "mean          0.322028  \n",
      "std           1.048684  \n",
      "min           0.000000  \n",
      "25%           0.020000  \n",
      "50%           0.030000  \n",
      "75%           0.090000  \n",
      "max          42.000000  \n"
     ]
    }
   ],
   "source": [
    "customer_features = analyzer.prepare_customer_features()\n",
    "print(f\"\\nCustomer features created for {len(customer_features)} customers\")\n",
    "print(\"\\nFeatures overview:\")\n",
    "print(customer_features.describe())"
   ]
  },
  {
   "cell_type": "code",
   "execution_count": 8,
   "id": "20f9df02",
   "metadata": {},
   "outputs": [
    {
     "name": "stdout",
     "output_type": "stream",
     "text": [
      "finding optimal number of clusters...\n"
     ]
    },
    {
     "data": {
      "image/png": "[encoded data removed]",
      "text/plain": [
       "<Figure size 1500x500 with 2 Axes>"
      ]
     },
     "metadata": {},
     "output_type": "display_data"
    },
    {
     "name": "stdout",
     "output_type": "stream",
     "text": [
      "Recommended number of clusters: 2\n",
      "Silhouette score: 0.504\n",
      "Optimal number of clusters found: 2\n",
      "Using different clustesr for testing...\n"
     ]
    }
   ],
   "source": [
    "# Find optimal number of clusters\n",
    "print(\"finding optimal number of clusters...\")\n",
    "optimal_k, scores = analyzer.find_optimal_clusters(max_clusters=12)\n",
    "print(f\"Optimal number of clusters found: {optimal_k}\")\n",
    "print(\"Using different clustesr for testing...\")\n"
   ]
  },
  {
   "cell_type": "markdown",
   "id": "f55ad2f2",
   "metadata": {},
   "source": [
    "Testing with 5 clusters"
   ]
  },
  {
   "cell_type": "code",
   "execution_count": 10,
   "id": "8028f8e0",
   "metadata": {},
   "outputs": [
    {
     "name": "stdout",
     "output_type": "stream",
     "text": [
      "\n",
      "=== FINAL CLUSTERING WITH 5 SEGMENTS ===\n",
      "Features for clustering: ['SALES_ORDER_NO_nunique', 'SKU_nunique', 'RETURN_RATE', 'RETURN_RATIO', 'RETURN_FREQUENCY', 'RETURN_PRODUCT_VARIETY', 'CUSTOMER_LIFETIME_DAYS', 'RECENT_ORDERS', 'RECENT_RETURNS', 'SALES_QTY_mean', 'DAYS_TO_FIRST_RETURN', 'RETURN_DATE_SPREAD', 'ORDERS_BEFORE_FIRST_RETURN', 'AVG_RETURNS_PER_BATCH', 'RETURN_VELOCITY']\n",
      "Number of features: 15\n",
      "Using existing scaler parameters\n",
      "Scaled data shape: (12514, 15)\n",
      "Cluster centers shape: (5, 15)\n",
      "Features columns length: 15\n",
      "Analyzing cluster characteristics...\n",
      "=== CLUSTER ANALYSIS ===\n",
      "         AVG_ORDERS  CUSTOMER_COUNT  AVG_RETURN_RATE  AVG_RETURN_RATIO  \\\n",
      "CLUSTER                                                                  \n",
      "0              6.08             318             3.03              5.24   \n",
      "1             17.54            2859             0.27              0.18   \n",
      "2            126.45             369             0.67              0.49   \n",
      "3             26.98            6454             0.66              0.54   \n",
      "4              7.97            2514             0.75              0.63   \n",
      "\n",
      "         AVG_LIFETIME_DAYS  AVG_RECENT_ORDERS  AVG_PRODUCT_VARIETY  \\\n",
      "CLUSTER                                                              \n",
      "0                   432.48               1.76                18.13   \n",
      "1                   891.10               3.87                46.02   \n",
      "2                  1034.90              27.50               318.23   \n",
      "3                   943.08               4.62                60.54   \n",
      "4                   341.56               1.99                20.66   \n",
      "\n",
      "         AVG_ORDER_SIZE  \n",
      "CLUSTER                  \n",
      "0                  1.07  \n",
      "1                  1.10  \n",
      "2                  1.08  \n",
      "3                  1.07  \n",
      "4                  1.07  \n",
      "\n",
      "Data-driven thresholds:\n",
      "Return Rate - 75th percentile: 0.86\n",
      "Return Ratio - 75th percentile: 0.67\n",
      "Orders - 75th percentile: 28\n",
      "Recent Orders - 25th percentile: 0.00\n",
      "Days to First Return - 25th percentile: 13.0\n",
      "Return Date Spread - 75th percentile: 824.0\n",
      "Orders Before First Return - 75th percentile: 67.0\n",
      "Returns Per Batch - 75th percentile: 2.25\n",
      "Return Velocity - 75th percentile: 0.090\n"
     ]
    },
    {
     "ename": "KeyError",
     "evalue": "'ORDERS_BEFORE_FIRST_RETURN'",
     "output_type": "error",
     "traceback": [
      "\u001b[31m---------------------------------------------------------------------------\u001b[39m",
      "\u001b[31mKeyError\u001b[39m                                  Traceback (most recent call last)",
      "\u001b[36mFile \u001b[39m\u001b[32mc:\\Code\\Local Code\\URBN\\RETRO_hack_25\\.venv\\Lib\\site-packages\\pandas\\core\\indexes\\base.py:3812\u001b[39m, in \u001b[36mIndex.get_loc\u001b[39m\u001b[34m(self, key)\u001b[39m\n\u001b[32m   3811\u001b[39m \u001b[38;5;28;01mtry\u001b[39;00m:\n\u001b[32m-> \u001b[39m\u001b[32m3812\u001b[39m     \u001b[38;5;28;01mreturn\u001b[39;00m \u001b[38;5;28;43mself\u001b[39;49m\u001b[43m.\u001b[49m\u001b[43m_engine\u001b[49m\u001b[43m.\u001b[49m\u001b[43mget_loc\u001b[49m\u001b[43m(\u001b[49m\u001b[43mcasted_key\u001b[49m\u001b[43m)\u001b[49m\n\u001b[32m   3813\u001b[39m \u001b[38;5;28;01mexcept\u001b[39;00m \u001b[38;5;167;01mKeyError\u001b[39;00m \u001b[38;5;28;01mas\u001b[39;00m err:\n",
      "\u001b[36mFile \u001b[39m\u001b[32mpandas/_libs/index.pyx:167\u001b[39m, in \u001b[36mpandas._libs.index.IndexEngine.get_loc\u001b[39m\u001b[34m()\u001b[39m\n",
      "\u001b[36mFile \u001b[39m\u001b[32mpandas/_libs/index.pyx:196\u001b[39m, in \u001b[36mpandas._libs.index.IndexEngine.get_loc\u001b[39m\u001b[34m()\u001b[39m\n",
      "\u001b[36mFile \u001b[39m\u001b[32mpandas/_libs/hashtable_class_helper.pxi:7088\u001b[39m, in \u001b[36mpandas._libs.hashtable.PyObjectHashTable.get_item\u001b[39m\u001b[34m()\u001b[39m\n",
      "\u001b[36mFile \u001b[39m\u001b[32mpandas/_libs/hashtable_class_helper.pxi:7096\u001b[39m, in \u001b[36mpandas._libs.hashtable.PyObjectHashTable.get_item\u001b[39m\u001b[34m()\u001b[39m\n",
      "\u001b[31mKeyError\u001b[39m: 'ORDERS_BEFORE_FIRST_RETURN'",
      "\nThe above exception was the direct cause of the following exception:\n",
      "\u001b[31mKeyError\u001b[39m                                  Traceback (most recent call last)",
      "\u001b[36mCell\u001b[39m\u001b[36m \u001b[39m\u001b[32mIn[10]\u001b[39m\u001b[32m, line 4\u001b[39m\n\u001b[32m      2\u001b[39m cluster_labels, cluster_centers = analyzer.perform_clustering(n_clusters=\u001b[32m5\u001b[39m)\n\u001b[32m      3\u001b[39m \u001b[38;5;28mprint\u001b[39m(\u001b[33m\"\u001b[39m\u001b[33mAnalyzing cluster characteristics...\u001b[39m\u001b[33m\"\u001b[39m)\n\u001b[32m----> \u001b[39m\u001b[32m4\u001b[39m cluster_summary, interpretations = \u001b[43manalyzer\u001b[49m\u001b[43m.\u001b[49m\u001b[43manalyze_clusters\u001b[49m\u001b[43m(\u001b[49m\u001b[43m)\u001b[49m\n",
      "\u001b[36mFile \u001b[39m\u001b[32mc:\\Code\\Local Code\\URBN\\RETRO_hack_25\\functions.py:385\u001b[39m, in \u001b[36mReturnsClusteringAnalysis.analyze_clusters\u001b[39m\u001b[34m(self)\u001b[39m\n\u001b[32m    383\u001b[39m     cluster_type = \u001b[33m\"\u001b[39m\u001b[33mHIGH RISK - Heavy Returners\u001b[39m\u001b[33m\"\u001b[39m\n\u001b[32m    384\u001b[39m     action = \u001b[33m\"\u001b[39m\u001b[33mImmediate retention intervention needed\u001b[39m\u001b[33m\"\u001b[39m\n\u001b[32m--> \u001b[39m\u001b[32m385\u001b[39m \u001b[38;5;28;01mif\u001b[39;00m (\u001b[43mprofile\u001b[49m\u001b[43m[\u001b[49m\u001b[33;43m'\u001b[39;49m\u001b[33;43mORDERS_BEFORE_FIRST_RETURN\u001b[39;49m\u001b[33;43m'\u001b[39;49m\u001b[43m]\u001b[49m >= orders_before_return_75 \u001b[38;5;129;01mand\u001b[39;00m \n\u001b[32m    386\u001b[39m     profile[\u001b[33m'\u001b[39m\u001b[33mRETURN_DATE_SPREAD\u001b[39m\u001b[33m'\u001b[39m] <= \u001b[32m7\u001b[39m):  \u001b[38;5;66;03m# Many orders, then bulk returns within week\u001b[39;00m\n\u001b[32m    387\u001b[39m     cluster_type = \u001b[33m\"\u001b[39m\u001b[33mSTOCKPILERS - Order & Bulk Return\u001b[39m\u001b[33m\"\u001b[39m\n\u001b[32m    388\u001b[39m     action = \u001b[33m\"\u001b[39m\u001b[33mReturn policy review + purchase limits\u001b[39m\u001b[33m\"\u001b[39m\n",
      "\u001b[36mFile \u001b[39m\u001b[32mc:\\Code\\Local Code\\URBN\\RETRO_hack_25\\.venv\\Lib\\site-packages\\pandas\\core\\series.py:1130\u001b[39m, in \u001b[36mSeries.__getitem__\u001b[39m\u001b[34m(self, key)\u001b[39m\n\u001b[32m   1127\u001b[39m     \u001b[38;5;28;01mreturn\u001b[39;00m \u001b[38;5;28mself\u001b[39m._values[key]\n\u001b[32m   1129\u001b[39m \u001b[38;5;28;01melif\u001b[39;00m key_is_scalar:\n\u001b[32m-> \u001b[39m\u001b[32m1130\u001b[39m     \u001b[38;5;28;01mreturn\u001b[39;00m \u001b[38;5;28;43mself\u001b[39;49m\u001b[43m.\u001b[49m\u001b[43m_get_value\u001b[49m\u001b[43m(\u001b[49m\u001b[43mkey\u001b[49m\u001b[43m)\u001b[49m\n\u001b[32m   1132\u001b[39m \u001b[38;5;66;03m# Convert generator to list before going through hashable part\u001b[39;00m\n\u001b[32m   1133\u001b[39m \u001b[38;5;66;03m# (We will iterate through the generator there to check for slices)\u001b[39;00m\n\u001b[32m   1134\u001b[39m \u001b[38;5;28;01mif\u001b[39;00m is_iterator(key):\n",
      "\u001b[36mFile \u001b[39m\u001b[32mc:\\Code\\Local Code\\URBN\\RETRO_hack_25\\.venv\\Lib\\site-packages\\pandas\\core\\series.py:1246\u001b[39m, in \u001b[36mSeries._get_value\u001b[39m\u001b[34m(self, label, takeable)\u001b[39m\n\u001b[32m   1243\u001b[39m     \u001b[38;5;28;01mreturn\u001b[39;00m \u001b[38;5;28mself\u001b[39m._values[label]\n\u001b[32m   1245\u001b[39m \u001b[38;5;66;03m# Similar to Index.get_value, but we do not fall back to positional\u001b[39;00m\n\u001b[32m-> \u001b[39m\u001b[32m1246\u001b[39m loc = \u001b[38;5;28;43mself\u001b[39;49m\u001b[43m.\u001b[49m\u001b[43mindex\u001b[49m\u001b[43m.\u001b[49m\u001b[43mget_loc\u001b[49m\u001b[43m(\u001b[49m\u001b[43mlabel\u001b[49m\u001b[43m)\u001b[49m\n\u001b[32m   1248\u001b[39m \u001b[38;5;28;01mif\u001b[39;00m is_integer(loc):\n\u001b[32m   1249\u001b[39m     \u001b[38;5;28;01mreturn\u001b[39;00m \u001b[38;5;28mself\u001b[39m._values[loc]\n",
      "\u001b[36mFile \u001b[39m\u001b[32mc:\\Code\\Local Code\\URBN\\RETRO_hack_25\\.venv\\Lib\\site-packages\\pandas\\core\\indexes\\base.py:3819\u001b[39m, in \u001b[36mIndex.get_loc\u001b[39m\u001b[34m(self, key)\u001b[39m\n\u001b[32m   3814\u001b[39m     \u001b[38;5;28;01mif\u001b[39;00m \u001b[38;5;28misinstance\u001b[39m(casted_key, \u001b[38;5;28mslice\u001b[39m) \u001b[38;5;129;01mor\u001b[39;00m (\n\u001b[32m   3815\u001b[39m         \u001b[38;5;28misinstance\u001b[39m(casted_key, abc.Iterable)\n\u001b[32m   3816\u001b[39m         \u001b[38;5;129;01mand\u001b[39;00m \u001b[38;5;28many\u001b[39m(\u001b[38;5;28misinstance\u001b[39m(x, \u001b[38;5;28mslice\u001b[39m) \u001b[38;5;28;01mfor\u001b[39;00m x \u001b[38;5;129;01min\u001b[39;00m casted_key)\n\u001b[32m   3817\u001b[39m     ):\n\u001b[32m   3818\u001b[39m         \u001b[38;5;28;01mraise\u001b[39;00m InvalidIndexError(key)\n\u001b[32m-> \u001b[39m\u001b[32m3819\u001b[39m     \u001b[38;5;28;01mraise\u001b[39;00m \u001b[38;5;167;01mKeyError\u001b[39;00m(key) \u001b[38;5;28;01mfrom\u001b[39;00m\u001b[38;5;250m \u001b[39m\u001b[34;01merr\u001b[39;00m\n\u001b[32m   3820\u001b[39m \u001b[38;5;28;01mexcept\u001b[39;00m \u001b[38;5;167;01mTypeError\u001b[39;00m:\n\u001b[32m   3821\u001b[39m     \u001b[38;5;66;03m# If we have a listlike key, _check_indexing_error will raise\u001b[39;00m\n\u001b[32m   3822\u001b[39m     \u001b[38;5;66;03m#  InvalidIndexError. Otherwise we fall through and re-raise\u001b[39;00m\n\u001b[32m   3823\u001b[39m     \u001b[38;5;66;03m#  the TypeError.\u001b[39;00m\n\u001b[32m   3824\u001b[39m     \u001b[38;5;28mself\u001b[39m._check_indexing_error(key)\n",
      "\u001b[31mKeyError\u001b[39m: 'ORDERS_BEFORE_FIRST_RETURN'"
     ]
    }
   ],
   "source": [
    "print(f\"\\n=== FINAL CLUSTERING WITH 5 SEGMENTS ===\")\n",
    "cluster_labels, cluster_centers = analyzer.perform_clustering(n_clusters=5)\n",
    "print(\"Analyzing cluster characteristics...\")\n",
    "cluster_summary, interpretations = analyzer.analyze_clusters()"
   ]
  },
  {
   "cell_type": "code",
   "execution_count": null,
   "id": "3bf1c823",
   "metadata": {},
   "outputs": [],
   "source": [
    "cluster_summary.to_csv('cluster_summary.csv', index=False)"
   ]
  },
  {
   "cell_type": "code",
   "execution_count": null,
   "id": "1cdf8e9c",
   "metadata": {},
   "outputs": [],
   "source": [
    "# Visualize\n",
    "print(\"visualizing clusters...\")\n",
    "analyzer.visualize_clusters()\n",
    "print(\"Clusters visualized successfully.\")\n"
   ]
  },
  {
   "cell_type": "code",
   "execution_count": null,
   "id": "4aa9e5fb",
   "metadata": {},
   "outputs": [],
   "source": [
    "# Export results\n",
    "print(\"exporting results...\")\n",
    "results = analyzer.export_results()\n",
    "print(\"Results exported successfully.\")\n"
   ]
  },
  {
   "cell_type": "code",
   "execution_count": null,
   "id": "90c95fb5",
   "metadata": {},
   "outputs": [],
   "source": [
    "# High-risk customers (for retention campaigns)\n",
    "high_risk_clusters = [i for i, info in interpretations.items() \n",
    "    if 'HIGH RISK' in info['type'] or 'CHURN RISK' in info['type']]\n",
    "\n",
    "if high_risk_clusters:\n",
    "    print(f\"High-risk clusters identified: {high_risk_clusters}\")\n",
    "    high_risk_customers = []\n",
    "    for cluster_id in high_risk_clusters:\n",
    "        customers = analyzer.get_cluster_customers(cluster_id)\n",
    "        high_risk_customers.extend(customers)\n",
    "    \n",
    "    print(f\"Total high-risk customers: {len(high_risk_customers)}\")\n",
    "    \n",
    "    # Save high-risk customer list\n",
    "    pd.DataFrame({'CUSTOMER_EMAILID': high_risk_customers}).to_csv('high_risk_customers.csv', index=False)\n",
    "    print(\"High-risk customer list saved to 'high_risk_customers.csv'\")\n",
    "\n",
    "# Loyal customers (for rewards programs)\n",
    "loyal_clusters = [i for i, info in interpretations.items() \n",
    "    if 'LOYAL' in info['type']]\n",
    "\n",
    "if loyal_clusters:\n",
    "    print(f\"\\nLoyal clusters identified: {loyal_clusters}\")\n",
    "    loyal_customers = []\n",
    "    for cluster_id in loyal_clusters:\n",
    "        customers = analyzer.get_cluster_customers(cluster_id)\n",
    "        loyal_customers.extend(customers)\n",
    "    \n",
    "    print(f\"Total loyal customers: {len(loyal_customers)}\")\n",
    "    \n",
    "    # Save loyal customer list\n",
    "    pd.DataFrame({'CUSTOMER_EMAILID': loyal_customers}).to_csv('loyal_customers.csv', index=False)\n",
    "    print(\"Loyal customer list saved to 'loyal_customers.csv'\")\n",
    "print(\"\\n\" + \"=\"*50)\n",
    "print(\"MARKETING CAMPAIGN RECOMMENDATIONS\")\n",
    "print(\"=\"*50)\n",
    "\n",
    "for cluster_id, info in interpretations.items():\n",
    "    customers = analyzer.get_cluster_customers(cluster_id)\n",
    "    print(f\"\\n📊 {info['type']}\")\n",
    "    print(f\"   👥 Customers: {info['customers']}\")\n",
    "    print(f\"   🎯 Action: {info['action']}\")\n",
    "    print(f\"   📧 Sample emails: {customers[:3] if len(customers) >= 3 else customers}\")\n",
    "\n",
    "# Cell 12: Additional Analysis (Optional)\n",
    "# =======================================\n",
    "# You can add custom analysis here based on your specific business needs\n",
    "\n",
    "# Example: Analyze return patterns by product category\n",
    "if 'Q_CLS_ID' in df.columns:\n",
    "    print(\"\\n\" + \"=\"*40)\n",
    "    print(\"PRODUCT CATEGORY ANALYSIS\")\n",
    "    print(\"=\"*40)\n",
    "    \n",
    "    category_returns = df.groupby(['CLUSTER', 'Q_CLS_ID']).agg({\n",
    "        'RETURN_QTY': 'sum',\n",
    "        'CUSTOMER_EMAILID': 'nunique'\n",
    "    }).round(2)\n",
    "    \n",
    "    print(category_returns.head(10))\n",
    "\n",
    "# Example: Time-based analysis\n",
    "print(\"\\n\" + \"=\"*40)\n",
    "print(\"SEASONAL RETURN PATTERNS\")\n",
    "print(\"=\"*40)\n",
    "\n",
    "df['ORDER_MONTH'] = pd.to_datetime(df['ORDER_DATE']).dt.month\n",
    "monthly_returns = df.groupby(['CLUSTER', 'ORDER_MONTH'])['RETURN_QTY'].sum().unstack(fill_value=0)\n",
    "\n",
    "# Plot heatmap\n",
    "plt.figure(figsize=(12, 6))\n",
    "sns.heatmap(monthly_returns, annot=True, cmap='YlOrRd', fmt='.0f')\n",
    "plt.title('Return Quantities by Cluster and Month')\n",
    "plt.xlabel('Month')\n",
    "plt.ylabel('Cluster')\n",
    "plt.show()"
   ]
  }
 ],
 "metadata": {
  "kernelspec": {
   "display_name": ".venv",
   "language": "python",
   "name": "python3"
  },
  "language_info": {
   "codemirror_mode": {
    "name": "ipython",
    "version": 3
   },
   "file_extension": ".py",
   "mimetype": "text/x-python",
   "name": "python",
   "nbconvert_exporter": "python",
   "pygments_lexer": "ipython3",
   "version": "3.12.6"
  }
 },
 "nbformat": 4,
 "nbformat_minor": 5
}
